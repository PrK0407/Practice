{
  "metadata": {
    "language_info": {
      "codemirror_mode": {
        "name": "python",
        "version": 3
      },
      "file_extension": ".py",
      "mimetype": "text/x-python",
      "name": "python",
      "nbconvert_exporter": "python",
      "pygments_lexer": "ipython3",
      "version": "3.8"
    },
    "kernelspec": {
      "name": "python",
      "display_name": "Python (Pyodide)",
      "language": "python"
    }
  },
  "nbformat_minor": 4,
  "nbformat": 4,
  "cells": [
    {
      "cell_type": "code",
      "source": "#How Python can be used in software testing? ",
      "metadata": {},
      "execution_count": null,
      "outputs": []
    },
    {
      "cell_type": "code",
      "source": "1. To generate test data; parse test results; generate reports; testing API calls etc.\n2. Python to extract requirements from a Word document.\n3. For testing tasks automation, setting up environments for tests, extracting performance data, etc...\n4. Testers use Python extensively in many companies with Selenium for test automation.\n5. For writing desktop applications used by testers.\n6. Test data manipulation.\n7. To build test environment\n8. Testing with IronPython on .NET",
      "metadata": {},
      "execution_count": null,
      "outputs": []
    },
    {
      "cell_type": "code",
      "source": "#What Python frameworks do you know? ",
      "metadata": {},
      "execution_count": null,
      "outputs": []
    },
    {
      "cell_type": "code",
      "source": "Ans: Framework called Web2py, PAMIE (Python automation Module for I. E.), The py.test framework",
      "metadata": {},
      "execution_count": null,
      "outputs": []
    },
    {
      "cell_type": "code",
      "source": "#What tools that helps Python development do you know?",
      "metadata": {},
      "execution_count": null,
      "outputs": []
    },
    {
      "cell_type": "code",
      "source": "Ans: There are good tools for helping Python development such as Notepad++ with the PyNPP plugin and Eclipse with PyDev and PyUnit.",
      "metadata": {},
      "execution_count": null,
      "outputs": []
    },
    {
      "cell_type": "code",
      "source": "#What are the rules for legal Python names? ",
      "metadata": {},
      "execution_count": null,
      "outputs": []
    },
    {
      "cell_type": "code",
      "source": "Ans:\n1. Names must start with a letter or _.\n\n2. Names must contain only letters, digits, and _.",
      "metadata": {},
      "execution_count": null,
      "outputs": []
    },
    {
      "cell_type": "code",
      "source": "#Which command do you use to exit help window or help command prompt?",
      "metadata": {},
      "execution_count": null,
      "outputs": []
    },
    {
      "cell_type": "code",
      "source": "Ans: quit When you type quit at the help’s command prompt, python shell prompt will appear by closing the help window automatically",
      "metadata": {},
      "execution_count": null,
      "outputs": []
    },
    {
      "cell_type": "code",
      "source": "#What is a “unittest” in Python?",
      "metadata": {},
      "execution_count": null,
      "outputs": []
    },
    {
      "cell_type": "code",
      "source": "Ans: The unit testing framework of Python is known as “unittest”.  It supports the sharing of setups, automation testing, shutdown code for tests, \naggregation of tests into collections, among others.",
      "metadata": {},
      "execution_count": null,
      "outputs": []
    },
    {
      "cell_type": "code",
      "source": "#Define “docstring”.",
      "metadata": {},
      "execution_count": null,
      "outputs": []
    },
    {
      "cell_type": "code",
      "source": "Ans: “Docstring” is a Python documentation string. It is the means to document Python “functions”, “modules” and “classes”.",
      "metadata": {},
      "execution_count": null,
      "outputs": []
    },
    {
      "cell_type": "code",
      "source": "#What is the difference between “Xrange” and “range”?",
      "metadata": {},
      "execution_count": null,
      "outputs": []
    },
    {
      "cell_type": "code",
      "source": "Ans: “Xrange” returns the “Xrange” object while range returns the “list” irrespective of the size of the “range”.",
      "metadata": {},
      "execution_count": null,
      "outputs": []
    }
  ]
}