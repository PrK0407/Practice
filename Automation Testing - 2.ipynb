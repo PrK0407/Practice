{
  "metadata": {
    "language_info": {
      "codemirror_mode": {
        "name": "python",
        "version": 3
      },
      "file_extension": ".py",
      "mimetype": "text/x-python",
      "name": "python",
      "nbconvert_exporter": "python",
      "pygments_lexer": "ipython3",
      "version": "3.8"
    },
    "kernelspec": {
      "name": "python",
      "display_name": "Python (Pyodide)",
      "language": "python"
    }
  },
  "nbformat_minor": 4,
  "nbformat": 4,
  "cells": [
    {
      "cell_type": "code",
      "source": "#What are the different locators used?",
      "metadata": {},
      "execution_count": null,
      "outputs": []
    },
    {
      "cell_type": "code",
      "source": "Answer:\n\n1. Tag name\n2. Class name\n3. id\n4. link text\n5. Partial link text\n6. CSS Selector\n7. XPath\n8. name",
      "metadata": {},
      "execution_count": null,
      "outputs": []
    },
    {
      "cell_type": "code",
      "source": "#Which is the slowest locator?",
      "metadata": {},
      "execution_count": null,
      "outputs": []
    },
    {
      "cell_type": "code",
      "source": "Answer: Xpath.",
      "metadata": {},
      "execution_count": null,
      "outputs": []
    },
    {
      "cell_type": "code",
      "source": "#Which is the best locator?",
      "metadata": {},
      "execution_count": null,
      "outputs": []
    },
    {
      "cell_type": "code",
      "source": "Answer: The selection of the best locator depends on the web elements or the ui page we are automating.",
      "metadata": {},
      "execution_count": null,
      "outputs": []
    },
    {
      "cell_type": "code",
      "source": "#How do we check whether a checkbox is checked or not?",
      "metadata": {},
      "execution_count": null,
      "outputs": []
    },
    {
      "cell_type": "code",
      "source": "Answer: is_checked()",
      "metadata": {},
      "execution_count": null,
      "outputs": []
    },
    {
      "cell_type": "code",
      "source": "#What is the library to be imported to add keyboard actions to our scripts?",
      "metadata": {},
      "execution_count": null,
      "outputs": []
    },
    {
      "cell_type": "code",
      "source": "Answer: from selenium.webdriver.common.keys import Keys",
      "metadata": {},
      "execution_count": null,
      "outputs": []
    },
    {
      "cell_type": "code",
      "source": "#What is the library to be imported to add mouse actions to our scripts?",
      "metadata": {},
      "execution_count": null,
      "outputs": []
    },
    {
      "cell_type": "code",
      "source": "Answer: from selenium.webdriver.common.actionchains import ActionChains",
      "metadata": {},
      "execution_count": null,
      "outputs": []
    },
    {
      "cell_type": "code",
      "source": "#What is Selenium?",
      "metadata": {},
      "execution_count": null,
      "outputs": []
    },
    {
      "cell_type": "code",
      "source": "Answer: It’s a Automation toolkit",
      "metadata": {},
      "execution_count": null,
      "outputs": []
    },
    {
      "cell_type": "code",
      "source": "#What is a Webdriver?",
      "metadata": {},
      "execution_count": null,
      "outputs": []
    },
    {
      "cell_type": "code",
      "source": "Answer: Selenium provides a tool to interact with the different web browsers.\nAnd they control the operation of the script.\nEx: chromedriver, Iedriver, gecko for firefox.",
      "metadata": {},
      "execution_count": null,
      "outputs": []
    },
    {
      "cell_type": "code",
      "source": "#Whats XPATH?",
      "metadata": {},
      "execution_count": null,
      "outputs": []
    },
    {
      "cell_type": "code",
      "source": "It is the extensible markup language’s path finder where the data is stored in XML format like Key value pair",
      "metadata": {},
      "execution_count": null,
      "outputs": []
    },
    {
      "cell_type": "code",
      "source": "#Whats explicit and implicit wait?",
      "metadata": {},
      "execution_count": null,
      "outputs": []
    },
    {
      "cell_type": "code",
      "source": "Answer: Explicit wait makes the browser wait for a given duration or the condition is true else, it will throw a time exceeded exception\nImplicit wait- will make the browser wait for a defined time and the execution continues",
      "metadata": {},
      "execution_count": null,
      "outputs": []
    },
    {
      "cell_type": "code",
      "source": "#What are window handles?",
      "metadata": {},
      "execution_count": null,
      "outputs": []
    },
    {
      "cell_type": "code",
      "source": "During the script execution if there is a new window that pops up then they have an address and they have a handle,\neach handle is listed in the variable handles[] \nEx: To reference those windows driver.switch_window(browser.wondow(handle[0]))",
      "metadata": {},
      "execution_count": null,
      "outputs": []
    },
    {
      "cell_type": "code",
      "source": "#What are alerts and how do you handle?",
      "metadata": {},
      "execution_count": null,
      "outputs": []
    },
    {
      "cell_type": "code",
      "source": "Answer: Alerts are the popup windows that you get when there is notification to the user,\nHandling them: alert_var = browser.switch_to_alert()\nTo dismiss: alert_var.dismiss()\nTo accept: alert_var.accept() etc",
      "metadata": {},
      "execution_count": null,
      "outputs": []
    },
    {
      "cell_type": "code",
      "source": "#What is the difference between close() and quit() func of the browser?",
      "metadata": {},
      "execution_count": null,
      "outputs": []
    },
    {
      "cell_type": "code",
      "source": "Answer: Browser.close() will close the current executing window and you can always switch to other window handles even after closing \ncurrently active one.Browser.quit() – will close the complete browser with all the open windows, this func handle \nand makes sure the processes are closed and terminated correctly without any memory leaks.",
      "metadata": {},
      "execution_count": null,
      "outputs": []
    },
    {
      "cell_type": "code",
      "source": "#Can we use selenium when the webpage UI & resource locater elements are changing frequently?",
      "metadata": {},
      "execution_count": null,
      "outputs": []
    },
    {
      "cell_type": "code",
      "source": "Answer: No",
      "metadata": {},
      "execution_count": null,
      "outputs": []
    },
    {
      "cell_type": "code",
      "source": "#What is WebDriver in selenium?",
      "metadata": {},
      "execution_count": null,
      "outputs": []
    },
    {
      "cell_type": "code",
      "source": "Answer: WebDriver is a plugin that helps to run selenium test scripts on a web browser.",
      "metadata": {},
      "execution_count": null,
      "outputs": []
    },
    {
      "cell_type": "code",
      "source": "#What is the use of automation testing?",
      "metadata": {},
      "execution_count": null,
      "outputs": []
    },
    {
      "cell_type": "code",
      "source": "Answer: It will reduce manpower & it also reduces the time that we spend on doing manual testing every time.",
      "metadata": {},
      "execution_count": null,
      "outputs": []
    },
    {
      "cell_type": "code",
      "source": "#Can we do data-driven testing using selenium?",
      "metadata": {},
      "execution_count": null,
      "outputs": []
    },
    {
      "cell_type": "code",
      "source": "Answer: Yes, bypassing values as parameters during run time.",
      "metadata": {},
      "execution_count": null,
      "outputs": []
    },
    {
      "cell_type": "code",
      "source": "#Is selenium helpful for standalone application testing?",
      "metadata": {},
      "execution_count": null,
      "outputs": []
    },
    {
      "cell_type": "code",
      "source": "Answer: No, Selenium is only used as a test automation tool for web driver applications",
      "metadata": {},
      "execution_count": null,
      "outputs": []
    },
    {
      "cell_type": "code",
      "source": "#Why you prefer to use Python for Selenium?",
      "metadata": {},
      "execution_count": null,
      "outputs": []
    },
    {
      "cell_type": "code",
      "source": "Answer: Python is not very large or complicated and one of the easy-to-use programming languages.\nPython APIs permit us to connect to the browser through Selenium.\nSelenium can convey normal Python commands to various browsers, in spite of the disparities in browser design.",
      "metadata": {},
      "execution_count": null,
      "outputs": []
    },
    {
      "cell_type": "code",
      "source": "#What versions are there of Selenium?",
      "metadata": {},
      "execution_count": null,
      "outputs": []
    },
    {
      "cell_type": "code",
      "source": "Answer:\nSelenium WebDriver – Used for the automation of tests in web applications.\nSelenium IDE – Firefox plugin to record and run tests.\nSelenium Grid – Allows you to run Selenium tests in parallel through multiple machines.",
      "metadata": {},
      "execution_count": null,
      "outputs": []
    },
    {
      "cell_type": "code",
      "source": "#What kind of tests can we perform with Selenium Webdriver?",
      "metadata": {},
      "execution_count": null,
      "outputs": []
    },
    {
      "cell_type": "code",
      "source": "Answer: We can perform functional and regression tests on web applications.",
      "metadata": {},
      "execution_count": null,
      "outputs": []
    },
    {
      "cell_type": "code",
      "source": "#What are the limitations of Selenium?",
      "metadata": {},
      "execution_count": null,
      "outputs": []
    },
    {
      "cell_type": "code",
      "source": "Answer:  The main limitations of selenium are:\nYou can only perform tests in web applications, not for desktop or mobile. (But other tools are available to automate desktop application GUI tests.)\nCaptcha and barcode reading cannot be automated with Selenium. Manual testing is needed for them.\nThe user who is going to perform automatic tests with Selenium Python must have previous knowledge of Python.",
      "metadata": {},
      "execution_count": null,
      "outputs": []
    },
    {
      "cell_type": "code",
      "source": "#What is the difference between / and // in an XPath expression?",
      "metadata": {},
      "execution_count": null,
      "outputs": []
    },
    {
      "cell_type": "code",
      "source": "Answer: We will use / to start the selection from a node in the document.\nIt allows us to create absolute Xpath expressions. We will use // to start the selection from anywhere in the document.\nIt allows us to create relative Xpath expressions.",
      "metadata": {},
      "execution_count": null,
      "outputs": []
    },
    {
      "cell_type": "code",
      "source": "#What are the different types of drivers currently supported by Selenium Webdriver?",
      "metadata": {},
      "execution_count": null,
      "outputs": []
    },
    {
      "cell_type": "code",
      "source": "Answer: The supported drivers are Gecko driver (new from Selenium 3 to create an instance of FirefoxDriver),\nChromeDriver, InternetExplorerDriver, SafariDriver, OperaDriver, AndroidDriver, IPhoneDriver, and HtmlUnitDriver.",
      "metadata": {},
      "execution_count": null,
      "outputs": []
    },
    {
      "cell_type": "code",
      "source": "#How can we select an option of a dropdown using Selenium Webdriver?",
      "metadata": {},
      "execution_count": null,
      "outputs": []
    },
    {
      "cell_type": "code",
      "source": "Answer: To be able to select the value of a dropdown using Selenium Webdriver we have to use the Select class, of Webdriver.\nThrough this class we can select a value of a dropdown by its value, its visible text or its index number (position).",
      "metadata": {},
      "execution_count": null,
      "outputs": []
    }
  ]
}